{
  "cells": [
    {
      "cell_type": "code",
      "execution_count": 3,
      "metadata": {
        "id": "H97JDikzw-QZ"
      },
      "outputs": [],
      "source": [
        "from difflib import SequenceMatcher"
      ]
    },
    {
      "cell_type": "code",
      "execution_count": null,
      "metadata": {
        "colab": {
          "base_uri": "https://localhost:8080/"
        },
        "id": "v9TBvkBHxlSa",
        "outputId": "0cb7fb8e-d378-40ae-b2a4-f23eb45c1ad0"
      },
      "outputs": [],
      "source": [
        "with open(\"text 1.txt\") as file1, open(\"text 2.txt\") as file2:\n",
        "  fil1data=file1.read()\n",
        "  fil2data=file2.read()\n",
        "  similarity =SequenceMatcher(None,fil1data,fil2data).ratio()\n",
        "  print(\"Match percentage = %s%%\" % (similarity*100))"
      ]
    }
  ],
  "metadata": {
    "colab": {
      "collapsed_sections": [],
      "name": "SequenceMatcher.ipynb",
      "provenance": []
    },
    "kernelspec": {
      "display_name": "Python 3",
      "name": "python3"
    },
    "language_info": {
      "name": "python"
    }
  },
  "nbformat": 4,
  "nbformat_minor": 0
}
